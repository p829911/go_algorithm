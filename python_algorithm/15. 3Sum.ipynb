{
 "cells": [
  {
   "cell_type": "code",
   "execution_count": 1,
   "id": "6eef479c",
   "metadata": {},
   "outputs": [],
   "source": [
    "from typing import List\n",
    "from itertools import combinations"
   ]
  },
  {
   "cell_type": "code",
   "execution_count": 2,
   "id": "98d66cbb",
   "metadata": {},
   "outputs": [],
   "source": [
    "class Solution:\n",
    "    def threeSum(self, nums: List[int]) -> List[List[int]]:\n",
    "        if len(nums) < 3:\n",
    "            return []\n",
    "        result = []\n",
    "        for i in combinations(nums, 3):\n",
    "            i = sorted(list(i))\n",
    "            if sum(i) == 0 and i not in result:\n",
    "                result.append(i)\n",
    "        return result"
   ]
  },
  {
   "cell_type": "code",
   "execution_count": 3,
   "id": "938b7376",
   "metadata": {},
   "outputs": [],
   "source": [
    "nums1 = [-1, 0, 1, 2, -1, -4]\n",
    "nums2 = []\n",
    "nums3 = [0]"
   ]
  },
  {
   "cell_type": "markdown",
   "id": "50a00831",
   "metadata": {},
   "source": [
    "조건\n",
    "1. list의 길이가 3 미만일 때는 빈 리스트를 반환한다.\n",
    "```\n",
    "if len(nums) < 3:\n",
    "    return []\n",
    "```\n",
    "2. combinations 사용\n",
    "```\n",
    "from itertools import combinations\n",
    "```"
   ]
  },
  {
   "cell_type": "code",
   "execution_count": 4,
   "id": "61f7d70d",
   "metadata": {},
   "outputs": [],
   "source": [
    "def threeSum(nums):\n",
    "    if len(nums) < 3:\n",
    "        return []\n",
    "    result = []\n",
    "    for i in combinations(nums, 3):\n",
    "        i = sorted(list(i))\n",
    "        if sum(i) == 0 and i not in result:\n",
    "            result.append(i)\n",
    "    return result"
   ]
  },
  {
   "cell_type": "code",
   "execution_count": 5,
   "id": "c7eced47",
   "metadata": {},
   "outputs": [
    {
     "data": {
      "text/plain": [
       "[[-1, 0, 1], [-1, -1, 2]]"
      ]
     },
     "execution_count": 5,
     "metadata": {},
     "output_type": "execute_result"
    }
   ],
   "source": [
    "threeSum(nums1)"
   ]
  },
  {
   "cell_type": "markdown",
   "id": "f92997f9",
   "metadata": {},
   "source": [
    "- 위의 코드는 time limit exceeded 발생  \n",
    "- combination으로 다 계산하면 안된다"
   ]
  },
  {
   "cell_type": "code",
   "execution_count": 6,
   "id": "2f0777cf",
   "metadata": {},
   "outputs": [
    {
     "data": {
      "text/plain": [
       "[-1, 0, 1, 2, -1, -4]"
      ]
     },
     "execution_count": 6,
     "metadata": {},
     "output_type": "execute_result"
    }
   ],
   "source": [
    "nums1"
   ]
  },
  {
   "cell_type": "code",
   "execution_count": 7,
   "id": "bffb9384",
   "metadata": {},
   "outputs": [],
   "source": [
    "nums = [0, 0, 0]"
   ]
  },
  {
   "cell_type": "code",
   "execution_count": 8,
   "id": "cfa9cec4",
   "metadata": {},
   "outputs": [],
   "source": [
    "result = []\n",
    "for i in range(len(nums1)):\n",
    "    for j in range(i+1, len(nums1)):\n",
    "        two_sum = nums1[i] + nums1[j]\n",
    "        if -1 * two_sum in nums1[j+1:]:\n",
    "            three_sum = sorted([nums1[i], nums1[j], -1 * two_sum])\n",
    "            if three_sum not in result:\n",
    "                result.append(three_sum)"
   ]
  },
  {
   "cell_type": "code",
   "execution_count": 9,
   "id": "ecf26607",
   "metadata": {},
   "outputs": [],
   "source": [
    "class Solution:\n",
    "    def threeSum(self, nums: List[int]) -> List[List[int]]:\n",
    "        if len(nums) < 3:\n",
    "            return []\n",
    "        result = []\n",
    "        list_len = len(nums)\n",
    "        for i in range(list_len):\n",
    "            for j in range(i+1, list_len):\n",
    "                two_sum = nums[i] + nums[j]\n",
    "                if -1 * two_sum in nums[j+1:]:\n",
    "                    three_sum = sorted([nums[i], nums[j], -1 * two_sum])\n",
    "                    if three_sum not in result:\n",
    "                        result.append(three_sum)\n",
    "        return result"
   ]
  },
  {
   "cell_type": "markdown",
   "id": "00cc6000",
   "metadata": {},
   "source": [
    "위에 방법은 더 오래걸린다..."
   ]
  },
  {
   "cell_type": "code",
   "execution_count": 10,
   "id": "b2fc820c",
   "metadata": {},
   "outputs": [],
   "source": [
    "import collections\n",
    "class Solution:\n",
    "    def threeSum(self, nums: List[int]) -> List[List[int]]:\n",
    "        pos, neg = list(), list()\n",
    "                \n",
    "        d = collections.defaultdict(int)\n",
    "        ans = []\n",
    "        \n",
    "        for i in nums:\n",
    "            d[i] += 1\n",
    "        \n",
    "        for i in d:\n",
    "            if i > 0:\n",
    "                pos.append(i)\n",
    "            else:\n",
    "                neg.append(i)\n",
    "        \n",
    "        if 0 in d and d[0] > 2:\n",
    "            ans.append([0, 0, 0])\n",
    "        \n",
    "        for p in pos:\n",
    "            for n in neg:\n",
    "                temp = 0 - p - n\n",
    "                if temp in d:\n",
    "                    if temp in {p, n} and d[temp] > 1:\n",
    "                        ans.append([n, temp, p])\n",
    "                    elif n < temp < p:\n",
    "                        ans.append([n, temp, p])\n",
    "        return ans"
   ]
  }
 ],
 "metadata": {
  "kernelspec": {
   "display_name": "Python 3",
   "language": "python",
   "name": "python3"
  },
  "language_info": {
   "codemirror_mode": {
    "name": "ipython",
    "version": 3
   },
   "file_extension": ".py",
   "mimetype": "text/x-python",
   "name": "python",
   "nbconvert_exporter": "python",
   "pygments_lexer": "ipython3",
   "version": "3.8.8"
  }
 },
 "nbformat": 4,
 "nbformat_minor": 5
}
