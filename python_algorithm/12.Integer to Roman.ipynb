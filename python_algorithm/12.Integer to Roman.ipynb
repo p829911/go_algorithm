{
 "cells": [
  {
   "cell_type": "code",
   "execution_count": 1,
   "metadata": {},
   "outputs": [],
   "source": [
    "roman_dict_list = [\n",
    "    {\n",
    "        1: \"I\",\n",
    "        4: \"IV\",\n",
    "        5: \"V\",\n",
    "        9: \"IX\",\n",
    "    },\n",
    "    {\n",
    "        1: \"X\",\n",
    "        4: \"XL\",\n",
    "        5: \"L\",\n",
    "        9: \"XC\",\n",
    "    },\n",
    "    {\n",
    "        1: \"C\",\n",
    "        4: \"CD\",\n",
    "        5: \"D\",\n",
    "        9: \"CM\",\n",
    "    },\n",
    "    {\n",
    "        1: \"M\",\n",
    "    }\n",
    "]"
   ]
  },
  {
   "cell_type": "code",
   "execution_count": 14,
   "metadata": {},
   "outputs": [],
   "source": [
    "def intToRoman(num: int) -> str:\n",
    "    result = []\n",
    "    i = 0\n",
    "    while num:\n",
    "        roman_dict = roman_dict_list[i]\n",
    "        mod = num % 10\n",
    "        \n",
    "        if mod in roman_dict:\n",
    "            result.append(roman_dict[mod])\n",
    "        else:\n",
    "            if mod // 5:\n",
    "                mod = mod % 5\n",
    "                result.append(roman_dict[5] + roman_dict[1] * mod)\n",
    "            else:\n",
    "                result.append(roman_dict[1] * mod)\n",
    "        i += 1\n",
    "        num //= 10\n",
    "        \n",
    "    return \"\".join(result[::-1])"
   ]
  },
  {
   "cell_type": "code",
   "execution_count": 15,
   "metadata": {},
   "outputs": [],
   "source": [
    "num_list = [3, 4, 9, 58, 3994]"
   ]
  },
  {
   "cell_type": "code",
   "execution_count": 16,
   "metadata": {},
   "outputs": [
    {
     "name": "stdout",
     "output_type": "stream",
     "text": [
      "III\n",
      "IV\n",
      "IX\n",
      "LVIII\n",
      "MMMCMXCIV\n"
     ]
    }
   ],
   "source": [
    "for i in num_list:\n",
    "    print(intToRoman(i))"
   ]
  },
  {
   "cell_type": "code",
   "execution_count": 4,
   "metadata": {},
   "outputs": [],
   "source": [
    "num = num_list[0]"
   ]
  },
  {
   "cell_type": "code",
   "execution_count": 8,
   "metadata": {},
   "outputs": [],
   "source": [
    "mod = num % 10\n",
    "div = num // 10"
   ]
  },
  {
   "cell_type": "code",
   "execution_count": 32,
   "metadata": {},
   "outputs": [],
   "source": [
    "num = \"1994\""
   ]
  },
  {
   "cell_type": "code",
   "execution_count": 33,
   "metadata": {},
   "outputs": [
    {
     "data": {
      "text/plain": [
       "'1'"
      ]
     },
     "execution_count": 33,
     "metadata": {},
     "output_type": "execute_result"
    }
   ],
   "source": [
    "num[0]"
   ]
  },
  {
   "cell_type": "code",
   "execution_count": 18,
   "metadata": {
    "scrolled": true
   },
   "outputs": [
    {
     "name": "stdout",
     "output_type": "stream",
     "text": [
      "4\n",
      "9\n",
      "9\n",
      "1\n"
     ]
    }
   ],
   "source": [
    "while num:\n",
    "    mod = num % 10\n",
    "    num //= 10\n",
    "    print(mod)"
   ]
  }
 ],
 "metadata": {
  "hide_input": false,
  "kernelspec": {
   "display_name": "Python 3",
   "language": "python",
   "name": "python3"
  },
  "language_info": {
   "codemirror_mode": {
    "name": "ipython",
    "version": 3
   },
   "file_extension": ".py",
   "mimetype": "text/x-python",
   "name": "python",
   "nbconvert_exporter": "python",
   "pygments_lexer": "ipython3",
   "version": "3.8.5"
  }
 },
 "nbformat": 4,
 "nbformat_minor": 4
}
