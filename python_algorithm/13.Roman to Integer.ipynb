{
 "cells": [
  {
   "cell_type": "code",
   "execution_count": null,
   "metadata": {},
   "outputs": [],
   "source": [
    "class Solution:\n",
    "    def romanToInt(self, s: str) -> int:\n",
    "        "
   ]
  },
  {
   "cell_type": "code",
   "execution_count": 1,
   "metadata": {},
   "outputs": [],
   "source": [
    "roman = {\n",
    "    \"I\": 1,\n",
    "    \"IV\": 4,\n",
    "    \"V\": 5,\n",
    "    \"IX\": 9,\n",
    "    \"X\": 10,\n",
    "    \"XL\": 40,\n",
    "    \"L\": 50,\n",
    "    \"XC\": 90,\n",
    "    \"C\": 100,\n",
    "    \"CD\": 400,\n",
    "    \"D\": 500,\n",
    "    \"CM\": 900,\n",
    "    \"M\" : 1000\n",
    "}"
   ]
  },
  {
   "cell_type": "code",
   "execution_count": 2,
   "metadata": {},
   "outputs": [],
   "source": [
    "string_list = [\"III\", \"IV\", \"IX\", \"LVIII\", \"MCMXCIV\"]"
   ]
  },
  {
   "cell_type": "code",
   "execution_count": 5,
   "metadata": {},
   "outputs": [],
   "source": [
    "def romanToInt(s: str) -> int:\n",
    "    result = 0\n",
    "    while s:\n",
    "        if len(s) > 1 and s[:2] in roman:\n",
    "            result += roman[s[:2]]\n",
    "            s = s[2:]\n",
    "        elif s[0] in roman:\n",
    "            result += roman[s[0]]\n",
    "            s = s[1:]\n",
    "    return result"
   ]
  },
  {
   "cell_type": "code",
   "execution_count": 10,
   "metadata": {},
   "outputs": [
    {
     "data": {
      "text/plain": [
       "1994"
      ]
     },
     "execution_count": 10,
     "metadata": {},
     "output_type": "execute_result"
    }
   ],
   "source": [
    "romanToInt(\"MCMXCIV\")"
   ]
  },
  {
   "cell_type": "code",
   "execution_count": null,
   "metadata": {},
   "outputs": [],
   "source": []
  }
 ],
 "metadata": {
  "hide_input": false,
  "kernelspec": {
   "display_name": "Python 3",
   "language": "python",
   "name": "python3"
  },
  "language_info": {
   "codemirror_mode": {
    "name": "ipython",
    "version": 3
   },
   "file_extension": ".py",
   "mimetype": "text/x-python",
   "name": "python",
   "nbconvert_exporter": "python",
   "pygments_lexer": "ipython3",
   "version": "3.8.5"
  }
 },
 "nbformat": 4,
 "nbformat_minor": 4
}
