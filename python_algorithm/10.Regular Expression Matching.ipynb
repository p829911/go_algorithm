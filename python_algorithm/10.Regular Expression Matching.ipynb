{
 "cells": [
  {
   "cell_type": "code",
   "execution_count": 30,
   "metadata": {},
   "outputs": [],
   "source": [
    "def isMatch(s: str, p: str) -> bool:\n",
    "    \n",
    "    if len(p) < 2 and len(p) < len(s):\n",
    "        return False\n",
    "    \n",
    "    if len(s) == 1 and len(p) == 1 and p[0] == \".\":\n",
    "        print(\"H\")\n",
    "        return True\n",
    "    \n",
    "    if len(p) == 1:\n",
    "        if s == p:\n",
    "            print(\"S\")\n",
    "            return True\n",
    "        else:\n",
    "            return False\n",
    "    \n",
    "    if p == \".*\":\n",
    "        return True\n",
    "    \n",
    "    if len(s) < 2 and len(p) != 0:\n",
    "        \n",
    "        for i in range(1, len(p), 2):\n",
    "            if p[i] == \"*\":\n",
    "                print(\"A\")\n",
    "                continue\n",
    "\n",
    "                if s == p[i:]:\n",
    "                    return True\n",
    "\n",
    "            else:\n",
    "                return False\n",
    "        else:\n",
    "            return True\n",
    "        \n",
    "        return False\n",
    "    \n",
    "    \n",
    "            \n",
    "    s, p = map(lambda x: list(x), [s, p])\n",
    "    \n",
    "    if p[0] == \".\":\n",
    "        p[0] = s[0]\n",
    "    \n",
    "    if p[0].isalnum and p[1] == \"*\":\n",
    "        if s[0] == p[0]:\n",
    "            for i in range(1, len(s)):\n",
    "                if s[i] == p[0]:\n",
    "                    continue\n",
    "                else:\n",
    "                    s = s[i:]\n",
    "                    p = p[2:]\n",
    "                    break\n",
    "            else:\n",
    "                return True\n",
    "                    \n",
    "        else:\n",
    "            p = p[2:]\n",
    "    elif p[0].isalnum and p[1] != \"*\":\n",
    "        if p[0] != s[0]:\n",
    "            return False\n",
    "        else:\n",
    "            s = s[1:]\n",
    "            p = p[1:]\n",
    "    print(s)\n",
    "    print(p)\n",
    "    print()\n",
    "    return isMatch(s, p)"
   ]
  },
  {
   "cell_type": "code",
   "execution_count": 33,
   "metadata": {},
   "outputs": [],
   "source": [
    "s = \"a\"\n",
    "p = \"ab*\""
   ]
  },
  {
   "cell_type": "code",
   "execution_count": 34,
   "metadata": {},
   "outputs": [
    {
     "data": {
      "text/plain": [
       "False"
      ]
     },
     "execution_count": 34,
     "metadata": {},
     "output_type": "execute_result"
    }
   ],
   "source": [
    "isMatch(s, p)"
   ]
  },
  {
   "cell_type": "code",
   "execution_count": 39,
   "metadata": {},
   "outputs": [
    {
     "data": {
      "text/plain": [
       "tuple"
      ]
     },
     "execution_count": 39,
     "metadata": {},
     "output_type": "execute_result"
    }
   ],
   "source": []
  },
  {
   "cell_type": "code",
   "execution_count": null,
   "metadata": {},
   "outputs": [],
   "source": []
  }
 ],
 "metadata": {
  "hide_input": false,
  "kernelspec": {
   "display_name": "Python 3",
   "language": "python",
   "name": "python3"
  },
  "language_info": {
   "codemirror_mode": {
    "name": "ipython",
    "version": 3
   },
   "file_extension": ".py",
   "mimetype": "text/x-python",
   "name": "python",
   "nbconvert_exporter": "python",
   "pygments_lexer": "ipython3",
   "version": "3.8.5"
  }
 },
 "nbformat": 4,
 "nbformat_minor": 4
}
