{
 "cells": [
  {
   "cell_type": "code",
   "execution_count": 1,
   "id": "bcbef938",
   "metadata": {},
   "outputs": [],
   "source": [
    "class Solution:\n",
    "    def isValid(self, s: str) -> bool:\n",
    "        par_list = [\"()\", \"{}\", \"[]\"]\n",
    "        while s:\n",
    "            for i in par_list:\n",
    "                if i in s:\n",
    "                    s = s.replace(i, \"\")\n",
    "                    break\n",
    "            else:\n",
    "                return False\n",
    "            \n",
    "        return True"
   ]
  },
  {
   "cell_type": "code",
   "execution_count": 2,
   "id": "44ebb268",
   "metadata": {},
   "outputs": [],
   "source": [
    "s = \"[)\""
   ]
  },
  {
   "cell_type": "code",
   "execution_count": 3,
   "id": "2a5afd80",
   "metadata": {},
   "outputs": [],
   "source": [
    "a = Solution()"
   ]
  },
  {
   "cell_type": "code",
   "execution_count": 4,
   "id": "c77cb106",
   "metadata": {},
   "outputs": [
    {
     "data": {
      "text/plain": [
       "False"
      ]
     },
     "execution_count": 4,
     "metadata": {},
     "output_type": "execute_result"
    }
   ],
   "source": [
    "a.isValid(s)"
   ]
  },
  {
   "cell_type": "code",
   "execution_count": null,
   "id": "6ec68eaf",
   "metadata": {},
   "outputs": [],
   "source": []
  }
 ],
 "metadata": {
  "kernelspec": {
   "display_name": "Python 3",
   "language": "python",
   "name": "python3"
  },
  "language_info": {
   "codemirror_mode": {
    "name": "ipython",
    "version": 3
   },
   "file_extension": ".py",
   "mimetype": "text/x-python",
   "name": "python",
   "nbconvert_exporter": "python",
   "pygments_lexer": "ipython3",
   "version": "3.8.8"
  }
 },
 "nbformat": 4,
 "nbformat_minor": 5
}
