{
 "cells": [
  {
   "cell_type": "code",
   "execution_count": 1,
   "metadata": {},
   "outputs": [],
   "source": [
    "strs1 = [\"flower\", \"flow\", \"flight\"]\n",
    "strs2 = [\"dog\", \"racecar\", \"car\"]\n",
    "strs3 = [\"\",\"\"]\n",
    "strs4 = [\"\"]\n",
    "strs5 = [\"a\"]\n",
    "strs6 = [\"aaa\",\"aa\",\"aaa\"]"
   ]
  },
  {
   "cell_type": "code",
   "execution_count": 2,
   "metadata": {},
   "outputs": [],
   "source": [
    "class Solution:\n",
    "    def longestCommonPrefix(self, strs: List[str]) -> str:\n",
    "        "
   ]
  },
  {
   "cell_type": "code",
   "execution_count": null,
   "metadata": {},
   "outputs": [],
   "source": [
    "from typing import List"
   ]
  },
  {
   "cell_type": "code",
   "execution_count": null,
   "metadata": {},
   "outputs": [],
   "source": [
    "def longestCommonPrefix(strs: List[str]) -> str:\n",
    "    if \"\" in strs:\n",
    "        return \"\"\n",
    "    \n",
    "    min_length = min(map(lambda x: len(x), strs))\n",
    "\n",
    "    for idx in range(min_length):\n",
    "        common = \"\"\n",
    "        for word in strs:\n",
    "            if not common:\n",
    "                common = word[idx]\n",
    "            else:\n",
    "                if common == word[idx]:\n",
    "                    continue\n",
    "                else:\n",
    "                    return word[:idx]\n",
    "    else:\n",
    "        return word[:min_length]"
   ]
  },
  {
   "cell_type": "code",
   "execution_count": null,
   "metadata": {},
   "outputs": [],
   "source": [
    "def longestCommonPrefix(strs: List[str]) -> str:\n",
    "    min_word = \"\"\n",
    "    min_length = 200\n",
    "    for w in strs:\n",
    "        if len(w) < min_length:\n",
    "            min_word = w\n",
    "            min_length = len(w)\n",
    "    \n",
    "    for i in range(min_length, -1, -1):\n",
    "        for word in strs:\n",
    "            if min_word[:i] == word[:i]:\n",
    "                continue\n",
    "            else:\n",
    "                break\n",
    "        else:\n",
    "            return word[:i]"
   ]
  },
  {
   "cell_type": "code",
   "execution_count": null,
   "metadata": {
    "scrolled": false
   },
   "outputs": [],
   "source": [
    "longestCommonPrefix(strs6)"
   ]
  },
  {
   "cell_type": "code",
   "execution_count": null,
   "metadata": {},
   "outputs": [],
   "source": []
  }
 ],
 "metadata": {
  "hide_input": false,
  "kernelspec": {
   "display_name": "Python 3",
   "language": "python",
   "name": "python3"
  },
  "language_info": {
   "codemirror_mode": {
    "name": "ipython",
    "version": 3
   },
   "file_extension": ".py",
   "mimetype": "text/x-python",
   "name": "python",
   "nbconvert_exporter": "python",
   "pygments_lexer": "ipython3",
   "version": "3.8.5"
  }
 },
 "nbformat": 4,
 "nbformat_minor": 4
}
